{
 "cells": [
  {
   "cell_type": "code",
   "execution_count": 1,
   "metadata": {},
   "outputs": [
    {
     "name": "stdout",
     "output_type": "stream",
     "text": [
      "The table all row is 93845,col is 3\n"
     ]
    }
   ],
   "source": [
    "import xlrd\n",
    "xlsfile = \"data.xlsx\"\n",
    "book = xlrd.open_workbook(xlsfile)\n",
    "table = book.sheet_by_index(0)\n",
    "nrows = table.nrows\n",
    "ncols = table.ncols\n",
    "print(\"The table all row is %d,col is %s\" %(nrows,ncols))"
   ]
  },
  {
   "cell_type": "code",
   "execution_count": 2,
   "metadata": {},
   "outputs": [],
   "source": [
    "data = [[],[],[]]\n",
    "for i in range(nrows):\n",
    "    data[0].append(xlrd.xldate.xldate_as_datetime(table.cell(i,0).value, 0))\n",
    "    data[1].append(table.cell(i,1).value)\n",
    "    data[2].append(table.cell(i,2).value)"
   ]
  },
  {
   "cell_type": "code",
   "execution_count": 3,
   "metadata": {},
   "outputs": [],
   "source": [
    "import datetime\n",
    "datestart = data[0][0]\n",
    "for i in range(nrows):\n",
    "    data[0][i] = data[0][i] - datestart +datetime.timedelta(days=1)\n",
    "    data[0][i] = data[0][i].days"
   ]
  },
  {
   "cell_type": "code",
   "execution_count": 4,
   "metadata": {},
   "outputs": [],
   "source": [
    "flag = [0]\n",
    "for i in range(nrows-1):\n",
    "    if data[0][i+1] - data[0][i] != 0:\n",
    "        flag.append(i+1)\n",
    "flag.append(nrows)"
   ]
  },
  {
   "cell_type": "code",
   "execution_count": 5,
   "metadata": {},
   "outputs": [],
   "source": [
    "import numpy as np\n",
    "from scipy import interpolate\n",
    "import pylab as pl"
   ]
  },
  {
   "cell_type": "code",
   "execution_count": 8,
   "metadata": {},
   "outputs": [
    {
     "data": {
      "image/png": "[encoded data removed]",
      "text/plain": [
       "<Figure size 432x288 with 1 Axes>"
      ]
     },
     "metadata": {},
     "output_type": "display_data"
    }
   ],
   "source": [
    "'''ynew = [[],[]]\n",
    "for i in range(len(flag)-1):  \n",
    "#for i in (0,):\n",
    "    a = flag[i]\n",
    "    b = flag[i+1]\n",
    "    x = data[1][a:b]\n",
    "    y = data[2][a:b]\n",
    "    ynew[0].append(a+1) \n",
    "    delta_x_d = x[0] - 0.5\n",
    "    delta_x_p = x[0] + 0.5\n",
    "    if delta_x_d >= min(x):\n",
    "        delta_x = delta_x_d\n",
    "        f = interpolate.interp1d(x,y,kind=\"slinear\")\n",
    "        ynew[1].append(f(delta_x))\n",
    "    elif delta_x_p <= max(x):\n",
    "        delta_x = delta_x_p\n",
    "        f = interpolate.interp1d(x,y,kind=\"slinear\")\n",
    "        ynew[1].append(f(delta_x))\n",
    "    else:\n",
    "        ynew[1].append(y[-1])\n",
    "'''\n",
    "\n",
    "#for i in range(len(flag)-1):  \n",
    "for i in (191,):\n",
    "    a = flag[i]\n",
    "    b = flag[i+1]\n",
    "    y = data[1][a:b]\n",
    "    x = data[2][a:b]\n",
    "    delta_x_d = x[0] - 0.5\n",
    "    delta_x_p = x[0] + 0.5\n",
    "    if delta_x_d >= min(x):\n",
    "        delta_x = delta_x_d\n",
    "        f = interpolate.interp1d(x,y,kind=\"slinear\")\n",
    "        ynew = f(delta_x)\n",
    "    elif delta_x_p <= max(x):\n",
    "        delta_x = delta_x_p\n",
    "        f = interpolate.interp1d(x,y,kind=\"slinear\")\n",
    "        ynew = f(delta_x)\n",
    "    else:\n",
    "        ynew = y[-1]\n",
    "    \n",
    "    f = interpolate.interp1d(x,y,kind=\"slinear\")\n",
    "    ynew = f(x)\n",
    "    pl.plot(x,y,\"ro\")\n",
    "    pl.plot(x,ynew,label=str(\"slinear\"))\n",
    "    pl.plot(delta_x,f(delta_x_d),\"bo\")\n",
    "    pl.legend(loc=\"lower right\")\n",
    "    pl.show()\n"
   ]
  },
  {
   "cell_type": "code",
   "execution_count": 7,
   "metadata": {},
   "outputs": [],
   "source": [
    "for i in range(len(ynew[1])):\n",
    "    ynew[1][i] = float(ynew[1][i])\n",
    "for i in range(len(ynew[0])):\n",
    "    ynew[0][i] = datestart + datetime.timedelta(days=data[0][ynew[0][i]]-1)\n",
    "    ynew[0][i] = ynew[0][i].strftime('%F')\n",
    "    import xlwt\n",
    "book = xlwt.Workbook(encoding='utf-8', style_compression=0)\n",
    "sheet = book.add_sheet('test', cell_overwrite_ok=True)\n",
    "for i in range(len(ynew[0])):\n",
    "    sheet.write(i, 0,ynew[0][i])\n",
    "for j in range(len(ynew[1])):\n",
    "    sheet.write(j, 1,ynew[1][j])\n",
    "book.save(r'test1.xls')\n",
    "print('good')"
   ]
  },
  {
   "cell_type": "code",
   "execution_count": null,
   "metadata": {},
   "outputs": [],
   "source": []
  }
 ],
 "metadata": {
  "kernelspec": {
   "display_name": "Python 3",
   "language": "python",
   "name": "python3"
  },
  "language_info": {
   "codemirror_mode": {
    "name": "ipython",
    "version": 3
   },
   "file_extension": ".py",
   "mimetype": "text/x-python",
   "name": "python",
   "nbconvert_exporter": "python",
   "pygments_lexer": "ipython3",
   "version": "3.6.5"
  }
 },
 "nbformat": 4,
 "nbformat_minor": 2
}
