{
 "cells": [
  {
   "cell_type": "markdown",
   "metadata": {},
   "source": [
    "## 数据预处理"
   ]
  },
  {
   "cell_type": "code",
   "execution_count": 1,
   "metadata": {},
   "outputs": [
    {
     "name": "stdout",
     "output_type": "stream",
     "text": [
      "The table all row is 2600,col is 1\n"
     ]
    }
   ],
   "source": [
    "import pandas as pd\n",
    "import xlrd\n",
    "xlsfile = \"B_vol2.xlsx\"\n",
    "book = xlrd.open_workbook(xlsfile)\n",
    "table = book.sheet_by_index(0)\n",
    "nrows = table.nrows\n",
    "ncols = table.ncols\n",
    "print(\"The table all row is %d,col is %s\" %(nrows,ncols))"
   ]
  },
  {
   "cell_type": "code",
   "execution_count": 2,
   "metadata": {},
   "outputs": [],
   "source": [
    "data = []\n",
    "for i in range(nrows):\n",
    "    data.append(table.cell(i,0).value)"
   ]
  },
  {
   "cell_type": "code",
   "execution_count": 3,
   "metadata": {},
   "outputs": [],
   "source": [
    "data_rev = list(reversed(data))"
   ]
  },
  {
   "cell_type": "markdown",
   "metadata": {},
   "source": [
    "## 处理掉断行的题目"
   ]
  },
  {
   "cell_type": "code",
   "execution_count": 4,
   "metadata": {},
   "outputs": [],
   "source": [
    "import re\n",
    "m = re.compile('(\\d+\\u3001)|([A-D]\\.)')\n",
    "f = [re.search(m,data_rev[i]) for i in range(len(data_rev))]"
   ]
  },
  {
   "cell_type": "code",
   "execution_count": 5,
   "metadata": {},
   "outputs": [],
   "source": [
    "for i in range(len(f)-1):\n",
    "    if f[i] is None:\n",
    "        data_rev[i+1] = '%s%s' % (data_rev[i+1], data_rev[i])\n",
    "        data_rev[i] = 'flag'"
   ]
  },
  {
   "cell_type": "code",
   "execution_count": 6,
   "metadata": {},
   "outputs": [],
   "source": [
    "for i in range(len(data_rev)-1,-1,-1):\n",
    "    if data_rev[i] == 'flag':\n",
    "        data_rev.pop(i)\n",
    "data = list(reversed(data_rev))"
   ]
  },
  {
   "cell_type": "markdown",
   "metadata": {},
   "source": [
    "## 匹配ABCD选项"
   ]
  },
  {
   "cell_type": "code",
   "execution_count": 7,
   "metadata": {},
   "outputs": [],
   "source": [
    "def selet_div(data):\n",
    "    '''\n",
    "    \n",
    "    对data中alph选项（ABCD）做筛选\n",
    "    \n",
    "    '''\n",
    "    s_num = '\\D*((?:\\d)+)(\\u3001)\\s*(.+)'    #匹配题号\n",
    "    colnum2qnum = [None] * len(data)    #行数和题号\n",
    "    colnum2qnum[0] = 1\n",
    "    qnum_que = [[],[]]    # 题号和问题\n",
    "    qnum_que[0].append(re.search(s_num, data[0]).group(1))\n",
    "    qnum_que[1].append(re.search(s_num, data[0]).group(3))\n",
    "    for i in range(1,len(data)):\n",
    "        m = re.search(s_num, data[i])\n",
    "        if m is None:\n",
    "            colnum2qnum[i] = colnum2qnum[i-1]\n",
    "        else:\n",
    "            qnum_que[0].append(m.group(1))\n",
    "            qnum_que[1].append(m.group(3))\n",
    "            colnum2qnum[i] = int((m.group(1)))\n",
    "\n",
    "    #pat_slt = '([A-D]\\.[\\u4e00-\\u9fa5]+)\\s+(([A-D]\\.[\\u4e00-\\u9fa5]+)?)'    #匹配ABCD选项  A.XXXX    B.XXXX\n",
    "    # 匹配四个选项\n",
    "    #pat_slt = '[^\\w\\u4e00-\\u9fa5]*([A-D]\\..*[\\w\\d\\u4e00-\\u9fa5]+)\\s*([A-D]\\.\\s*\\S+)?'\n",
    "    pat_slt = '([A-Z]\\.\\S+)\\s*([A-Z]\\.\\S+)?'\n",
    "    form = [[],[]] # quesion num, select\n",
    "    for i in range(len(data)):\n",
    "        m = re.search(pat_slt, data[i])\n",
    "        if m is not None:\n",
    "            k = list(m.groups())\n",
    "            if None in k: k.remove(None)\n",
    "            form[0].extend([colnum2qnum[i]]*len(k))\n",
    "            form[1].extend(k)\n",
    "    \n",
    "    final = [[],[],[]]\n",
    "    final[0] = qnum_que[0]\n",
    "    final[1] = qnum_que[1]\n",
    "    df = pd.DataFrame({'key':form[0],'data':form[1]})\n",
    "    grouped=df['data'].groupby(df['key'])\n",
    "    gr = []\n",
    "    for name,group in grouped:\n",
    "        final[2].append('$'.join(list(grouped.get_group(name))))\n",
    "    \n",
    "    return final"
   ]
  },
  {
   "cell_type": "markdown",
   "metadata": {},
   "source": [
    "上述函数需要再加一个返回题号的功能"
   ]
  },
  {
   "cell_type": "code",
   "execution_count": 8,
   "metadata": {},
   "outputs": [],
   "source": [
    "f = selet_div(data)"
   ]
  },
  {
   "cell_type": "code",
   "execution_count": 9,
   "metadata": {},
   "outputs": [],
   "source": [
    "import xlwt\n",
    "book = xlwt.Workbook(encoding='utf-8')\n",
    "sheet1 = book.add_sheet('test')\n",
    "for i in range(len(f[0])):\n",
    "    for j in range(3):\n",
    "        sheet1.write(i,j,f[j][i])\n",
    "book.save(r'final.xls')"
   ]
  },
  {
   "cell_type": "code",
   "execution_count": null,
   "metadata": {},
   "outputs": [],
   "source": []
  },
  {
   "cell_type": "code",
   "execution_count": null,
   "metadata": {},
   "outputs": [],
   "source": []
  }
 ],
 "metadata": {
  "kernelspec": {
   "display_name": "Python 3",
   "language": "python",
   "name": "python3"
  },
  "language_info": {
   "codemirror_mode": {
    "name": "ipython",
    "version": 3
   },
   "file_extension": ".py",
   "mimetype": "text/x-python",
   "name": "python",
   "nbconvert_exporter": "python",
   "pygments_lexer": "ipython3",
   "version": "3.6.5"
  }
 },
 "nbformat": 4,
 "nbformat_minor": 2
}
