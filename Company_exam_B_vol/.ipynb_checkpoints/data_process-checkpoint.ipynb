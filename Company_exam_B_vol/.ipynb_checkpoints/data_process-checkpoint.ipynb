{
 "cells": [
  {
   "cell_type": "markdown",
   "metadata": {},
   "source": [
    "## 数据预处理"
   ]
  },
  {
   "cell_type": "code",
   "execution_count": 1,
   "metadata": {},
   "outputs": [
    {
     "name": "stdout",
     "output_type": "stream",
     "text": [
      "The table all row is 2601,col is 1\n"
     ]
    }
   ],
   "source": [
    "import xlrd\n",
    "xlsfile = \"B_vol.xlsx\"\n",
    "book = xlrd.open_workbook(xlsfile)\n",
    "table = book.sheet_by_index(0)\n",
    "nrows = table.nrows\n",
    "ncols = table.ncols\n",
    "print(\"The table all row is %d,col is %s\" %(nrows,ncols))"
   ]
  },
  {
   "cell_type": "code",
   "execution_count": 2,
   "metadata": {},
   "outputs": [],
   "source": [
    "data = []\n",
    "for i in range(nrows):\n",
    "    data.append(table.cell(i,0).value)"
   ]
  },
  {
   "cell_type": "code",
   "execution_count": 3,
   "metadata": {},
   "outputs": [],
   "source": [
    "data_rev = list(reversed(data))"
   ]
  },
  {
   "cell_type": "markdown",
   "metadata": {},
   "source": [
    "## 处理掉断行的题目"
   ]
  },
  {
   "cell_type": "code",
   "execution_count": 4,
   "metadata": {},
   "outputs": [],
   "source": [
    "import re\n",
    "m = re.compile('(\\d+\\u3001)|([A-D]\\.)')\n",
    "f = [re.search(m,data_rev[i]) for i in range(len(data_rev))]"
   ]
  },
  {
   "cell_type": "code",
   "execution_count": 11,
   "metadata": {},
   "outputs": [],
   "source": [
    "for i in range(len(f)-1):\n",
    "    if f[i] is None:\n",
    "        data_rev[i+1] = '%s%s' % (data_rev[i+1], data_rev[i])\n",
    "        data_rev[i] = 'flag'"
   ]
  },
  {
   "cell_type": "code",
   "execution_count": 6,
   "metadata": {},
   "outputs": [],
   "source": [
    "for i in range(len(data_rev)-1,-1,-1):\n",
    "    if data_rev[i] == 'flag':\n",
    "        data_rev.pop(i)\n",
    "data = list(reversed(data_rev))"
   ]
  },
  {
   "cell_type": "markdown",
   "metadata": {},
   "source": [
    "## 匹配ABCD选项"
   ]
  },
  {
   "cell_type": "code",
   "execution_count": 7,
   "metadata": {},
   "outputs": [],
   "source": [
    "def selet_div(data, alph):\n",
    "    '''\n",
    "    \n",
    "    对data中alph选项（ABCD）做筛选\n",
    "    \n",
    "    \n",
    "    '''\n",
    "    s = '(%s\\.[\\u4e00-\\u9fa5]+)' % (alph)\n",
    "    mid_value = [re.match(s, data[i]) for i in range(len(data))]\n",
    "    value = []\n",
    "    for i in range(len(mid_value)):\n",
    "        if mid_value[i] is not None:\n",
    "            value.append(mid_value[i].group())\n",
    "    return value"
   ]
  },
  {
   "cell_type": "markdown",
   "metadata": {},
   "source": [
    "上述函数需要再加一个返回题号的功能"
   ]
  },
  {
   "cell_type": "code",
   "execution_count": 8,
   "metadata": {},
   "outputs": [],
   "source": [
    "pat_slt = '([A-D]\\.[\\u4e00-\\u9fa5]+)\\s+([A-D]\\.[\\u4e00-\\u9fa5]+)'\n",
    "exam_data = [re.match(pat_slt, data[i]) for i in range(len(data))]\n",
    "ans_data = [[],[]]\n",
    "for i in range(len(exam_data)):\n",
    "    if exam_data[i] is not None:\n",
    "        ans_data[0].append(exam_data[i].group(1))\n",
    "        ans_data[1].append(exam_data[i].group(2))        "
   ]
  },
  {
   "cell_type": "code",
   "execution_count": 9,
   "metadata": {},
   "outputs": [],
   "source": [
    "ans_com = [[],[],[],[]]\n",
    "ans_com[0] = selet_div(ans_data[0], 'A')\n",
    "ans_com[1] = selet_div(ans_data[1], 'B')\n",
    "ans_com[2] = selet_div(ans_data[0], 'C')\n",
    "ans_com[3] = selet_div(ans_data[1], 'D')"
   ]
  },
  {
   "cell_type": "code",
   "execution_count": 10,
   "metadata": {},
   "outputs": [
    {
     "data": {
      "text/plain": [
       "[['A.质量检查员', 'A.砌体结构构件', 'A.国务院', 'A.天然砂', 'A.建设单位'],\n",
       " ['B.施工员', 'B.施工工艺', 'B.建设部', 'B.河砂', 'B.监理单位'],\n",
       " ['C.项目经理', 'C.建设工程质量管理条例', 'C.砂浆种类', 'C.国家计委', 'C.海砂', 'C.质量监督单位'],\n",
       " ['D.安全员', 'D.工程建设强制性标准', 'D.抗震设防烈度', 'D.国家发改委', 'D.山砂', 'D.档案管理单位']]"
      ]
     },
     "execution_count": 10,
     "metadata": {},
     "output_type": "execute_result"
    }
   ],
   "source": [
    "ans_com"
   ]
  },
  {
   "cell_type": "code",
   "execution_count": null,
   "metadata": {},
   "outputs": [],
   "source": []
  }
 ],
 "metadata": {
  "kernelspec": {
   "display_name": "Python 3",
   "language": "python",
   "name": "python3"
  },
  "language_info": {
   "codemirror_mode": {
    "name": "ipython",
    "version": 3
   },
   "file_extension": ".py",
   "mimetype": "text/x-python",
   "name": "python",
   "nbconvert_exporter": "python",
   "pygments_lexer": "ipython3",
   "version": "3.6.5"
  }
 },
 "nbformat": 4,
 "nbformat_minor": 2
}
