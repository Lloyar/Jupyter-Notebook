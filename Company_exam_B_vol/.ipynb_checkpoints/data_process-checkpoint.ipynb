{
 "cells": [
  {
   "cell_type": "markdown",
   "metadata": {},
   "source": [
    "数据预处理"
   ]
  },
  {
   "cell_type": "code",
   "execution_count": 1,
   "metadata": {},
   "outputs": [
    {
     "name": "stdout",
     "output_type": "stream",
     "text": [
      "The table all row is 2128,col is 1\n"
     ]
    }
   ],
   "source": [
    "import pandas as pd\n",
    "import xlrd\n",
    "xlsfile = \"B_vol.xlsx\"\n",
    "book = xlrd.open_workbook(xlsfile)\n",
    "table = book.sheet_by_index(1)\n",
    "nrows = table.nrows\n",
    "ncols = table.ncols\n",
    "print(\"The table all row is %d,col is %s\" %(nrows,ncols))"
   ]
  },
  {
   "cell_type": "code",
   "execution_count": 2,
   "metadata": {},
   "outputs": [],
   "source": [
    "data = []\n",
    "for i in range(nrows):\n",
    "    data.append(table.cell(i,0).value)"
   ]
  },
  {
   "cell_type": "code",
   "execution_count": 3,
   "metadata": {},
   "outputs": [],
   "source": [
    "data_rev = list(reversed(data))"
   ]
  },
  {
   "cell_type": "markdown",
   "metadata": {},
   "source": [
    "处理掉断行的题目"
   ]
  },
  {
   "cell_type": "code",
   "execution_count": 4,
   "metadata": {},
   "outputs": [],
   "source": [
    "import re\n",
    "m = re.compile('(\\d+\\u3001)|([A-F]\\.)')\n",
    "f = [re.match(m,data_rev[i]) for i in range(len(data_rev))]\n",
    "\n",
    "for i in range(len(f)-1):\n",
    "    if f[i] is None:\n",
    "        data_rev[i+1] = '%s%s' % (data_rev[i+1], data_rev[i])\n",
    "        data_rev[i] = 'flag'    # flag是将要删掉的行的标记\n",
    "        \n",
    "for i in range(len(data_rev)-1,-1,-1):\n",
    "    if data_rev[i] == 'flag':\n",
    "        data_rev.pop(i)\n"
   ]
  },
  {
   "cell_type": "markdown",
   "metadata": {},
   "source": [
    "将所有选项拼接为一个字符串"
   ]
  },
  {
   "cell_type": "code",
   "execution_count": 5,
   "metadata": {},
   "outputs": [],
   "source": [
    "f_sel = [re.match(m,data_rev[i]).groups() for i in range(len(data_rev))]\n",
    "\n",
    "for i in range(len(f_sel)-1):\n",
    "    if f_sel[i][1] and f_sel[i+1][1] is not None:\n",
    "        data_rev[i+1] = '%s%s' % (data_rev[i+1],data_rev[i])\n",
    "        data_rev[i] = 'flag'\n",
    "        \n",
    "for i in range(len(data_rev)-1,-1,-1):\n",
    "    if data_rev[i] == 'flag':\n",
    "        data_rev.pop(i)\n",
    "data = list(reversed(data_rev))"
   ]
  },
  {
   "cell_type": "markdown",
   "metadata": {},
   "source": [
    "问题与答案的处理"
   ]
  },
  {
   "cell_type": "code",
   "execution_count": 6,
   "metadata": {},
   "outputs": [],
   "source": [
    "que = []\n",
    "ans = []\n",
    "for i in range(len(data)):\n",
    "    if i%2 ==0: que.append(data[i])\n",
    "    else: ans.append(data[i])\n",
    "    \n",
    "\n",
    "ans_split = '([A-F]\\.)'\n",
    "s_ans = [re.split(ans_split,ans[i]) for i in range(len(ans))]\n",
    "\n",
    "\n",
    "for i in range(len(s_ans)):\n",
    "    for j in range(len(s_ans[i])):\n",
    "        s_ans[i][j] = s_ans[i][j].replace('\\t',' ')\n",
    "\n",
    "\n",
    "\n",
    "# 合并答案\n",
    "for i in range(len(s_ans)):\n",
    "    for j in range(len(s_ans[i])-1,-1,-2):\n",
    "        s_ans[i][j-1] = '%s%s' % (s_ans[i][j-1],s_ans[i][j])\n",
    "        s_ans[i].pop(j)"
   ]
  },
  {
   "cell_type": "code",
   "execution_count": 7,
   "metadata": {},
   "outputs": [],
   "source": [
    "for i in range(len(s_ans)):\n",
    "    # 把问题加上\n",
    "    s_ans[i].reverse()\n",
    "    s_ans[i].append(que[i])\n",
    "    s_ans[i].reverse()"
   ]
  },
  {
   "cell_type": "code",
   "execution_count": 8,
   "metadata": {},
   "outputs": [],
   "source": [
    "import xlwt\n",
    "book = xlwt.Workbook(encoding='utf-8')\n",
    "sheet1 = book.add_sheet('test')\n",
    "for i in range(len(s_ans)):\n",
    "    for j in range(len(s_ans[i])):\n",
    "        sheet1.write(i,j,s_ans[i][j])\n",
    "book.save(r'final_b.xls')"
   ]
  },
  {
   "cell_type": "code",
   "execution_count": null,
   "metadata": {},
   "outputs": [],
   "source": []
  }
 ],
 "metadata": {
  "kernelspec": {
   "display_name": "Python 3",
   "language": "python",
   "name": "python3"
  },
  "language_info": {
   "codemirror_mode": {
    "name": "ipython",
    "version": 3
   },
   "file_extension": ".py",
   "mimetype": "text/x-python",
   "name": "python",
   "nbconvert_exporter": "python",
   "pygments_lexer": "ipython3",
   "version": "3.6.5"
  }
 },
 "nbformat": 4,
 "nbformat_minor": 2
}
