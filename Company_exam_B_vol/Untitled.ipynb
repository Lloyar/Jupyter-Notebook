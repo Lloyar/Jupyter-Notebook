{
 "cells": [
  {
   "cell_type": "code",
   "execution_count": 1,
   "metadata": {},
   "outputs": [
    {
     "name": "stdout",
     "output_type": "stream",
     "text": [
      "The table all row is 2601,col is 1\n"
     ]
    }
   ],
   "source": [
    "import pandas as pd\n",
    "import xlrd\n",
    "xlsfile = \"B_vol.xlsx\"\n",
    "book = xlrd.open_workbook(xlsfile)\n",
    "table = book.sheet_by_index(0)\n",
    "nrows = table.nrows\n",
    "ncols = table.ncols\n",
    "print(\"The table all row is %d,col is %s\" %(nrows,ncols))"
   ]
  },
  {
   "cell_type": "code",
   "execution_count": 2,
   "metadata": {},
   "outputs": [],
   "source": [
    "data = []\n",
    "for i in range(nrows):\n",
    "    data.append(table.cell(i,0).value)"
   ]
  },
  {
   "cell_type": "code",
   "execution_count": 3,
   "metadata": {},
   "outputs": [],
   "source": [
    "data_rev = list(reversed(data))"
   ]
  },
  {
   "cell_type": "code",
   "execution_count": 4,
   "metadata": {},
   "outputs": [],
   "source": [
    "import re\n",
    "m = re.compile('(\\d+\\u3001)|([A-D]\\.)')\n",
    "f = [re.search(m,data_rev[i]) for i in range(len(data_rev))]"
   ]
  },
  {
   "cell_type": "code",
   "execution_count": 5,
   "metadata": {},
   "outputs": [],
   "source": [
    "for i in range(len(f)-1):\n",
    "    if f[i] is None:\n",
    "        data_rev[i+1] = '%s%s' % (data_rev[i+1], data_rev[i])\n",
    "        data_rev[i] = 'flag'"
   ]
  },
  {
   "cell_type": "code",
   "execution_count": 6,
   "metadata": {},
   "outputs": [],
   "source": [
    "for i in range(len(data_rev)-1,-1,-1):\n",
    "    if data_rev[i] == 'flag':\n",
    "        data_rev.pop(i)\n",
    "data = list(reversed(data_rev))"
   ]
  },
  {
   "cell_type": "code",
   "execution_count": 7,
   "metadata": {},
   "outputs": [],
   "source": [
    "s_num = '\\D*((?:\\d)+)(\\u3001)\\s*(.+)'    #匹配题号\n",
    "colnum2qnum = [None] * len(data)    #行数和题号\n",
    "colnum2qnum[0] = 1\n",
    "qnum_que = [[],[]]    # 题号和问题\n",
    "qnum_que[0].append(re.search(s_num, data[0]).group(1))\n",
    "qnum_que[1].append(re.search(s_num, data[0]).group(3))\n",
    "for i in range(1,len(data)):\n",
    "    m = re.search(s_num, data[i])\n",
    "    if m is None:\n",
    "        colnum2qnum[i] = colnum2qnum[i-1]\n",
    "    else:\n",
    "        qnum_que[0].append(m.group(1))\n",
    "        qnum_que[1].append(m.group(3))\n",
    "        colnum2qnum[i] = int((m.group(1)))\n",
    "\n",
    "#pat_slt = '([A-D]\\.[\\u4e00-\\u9fa5]+)\\s+(([A-D]\\.[\\u4e00-\\u9fa5]+)?)'    #匹配ABCD选项  A.XXXX    B.XXXX\n",
    "pat_slt = '[^\\w\\u4e00-\\u9fa5]*([A-D]\\.\\s*\\S+)\\s*([A-D]\\.\\s*\\S+)?'\n",
    "\n",
    "# s = '(%s\\.[\\u4e00-\\u9fa5]+)' % (alph) \n",
    "# mid_value = [re.match(pat_slt, data[i]) for i in range(len(data))]\n",
    "form = [[],[]] # quesion num, select\n",
    "for i in range(len(data)):\n",
    "    m = re.search(pat_slt, data[i])\n",
    "    if m is not None:\n",
    "        k = list(m.groups())\n",
    "        if None in k: k.remove(None)\n",
    "        form[0].extend([colnum2qnum[i]]*len(k))\n",
    "        form[1].extend(k)\n",
    "\n",
    "final = [[],[],[]]\n",
    "final[0] = qnum_que[0]\n",
    "final[1] = qnum_que[1]\n",
    "\n"
   ]
  },
  {
   "cell_type": "code",
   "execution_count": 8,
   "metadata": {},
   "outputs": [],
   "source": [
    "df = pd.DataFrame({'key':form[0],'data':form[1]})\n",
    "grouped=df['data'].groupby(df['key'])\n",
    "gr = []\n",
    "for name,group in grouped:\n",
    "    final[2].append(' '.join(list(grouped.get_group(name))))\n"
   ]
  },
  {
   "cell_type": "code",
   "execution_count": 9,
   "metadata": {},
   "outputs": [
    {
     "data": {
      "text/plain": [
       "'A.砌体的强度 B.局部的抗压强度 C.高厚比 D.砖的强度等级'"
      ]
     },
     "execution_count": 9,
     "metadata": {},
     "output_type": "execute_result"
    }
   ],
   "source": [
    "' '.join(list(grouped.get_group(100)))"
   ]
  },
  {
   "cell_type": "code",
   "execution_count": 11,
   "metadata": {},
   "outputs": [
    {
     "data": {
      "text/plain": [
       "500"
      ]
     },
     "execution_count": 11,
     "metadata": {},
     "output_type": "execute_result"
    }
   ],
   "source": []
  },
  {
   "cell_type": "code",
   "execution_count": null,
   "metadata": {},
   "outputs": [],
   "source": []
  }
 ],
 "metadata": {
  "kernelspec": {
   "display_name": "Python 3",
   "language": "python",
   "name": "python3"
  },
  "language_info": {
   "codemirror_mode": {
    "name": "ipython",
    "version": 3
   },
   "file_extension": ".py",
   "mimetype": "text/x-python",
   "name": "python",
   "nbconvert_exporter": "python",
   "pygments_lexer": "ipython3",
   "version": "3.6.5"
  }
 },
 "nbformat": 4,
 "nbformat_minor": 2
}
