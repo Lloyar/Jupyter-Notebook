{
 "cells": [
  {
   "cell_type": "code",
   "execution_count": 1,
   "metadata": {},
   "outputs": [
    {
     "name": "stdout",
     "output_type": "stream",
     "text": [
      "The table all row is 2601,col is 1\n"
     ]
    }
   ],
   "source": [
    "import xlrd\n",
    "xlsfile = \"B_vol.xlsx\"\n",
    "book = xlrd.open_workbook(xlsfile)\n",
    "table = book.sheet_by_index(0)\n",
    "nrows = table.nrows\n",
    "ncols = table.ncols\n",
    "print(\"The table all row is %d,col is %s\" %(nrows,ncols))"
   ]
  },
  {
   "cell_type": "code",
   "execution_count": 3,
   "metadata": {},
   "outputs": [],
   "source": [
    "data = []\n",
    "for i in range(nrows):\n",
    "    data.append(table.cell(i,0).value)"
   ]
  },
  {
   "cell_type": "code",
   "execution_count": null,
   "metadata": {},
   "outputs": [],
   "source": [
    "import re"
   ]
  }
 ],
 "metadata": {
  "kernelspec": {
   "display_name": "Python 3",
   "language": "python",
   "name": "python3"
  },
  "language_info": {
   "codemirror_mode": {
    "name": "ipython",
    "version": 3
   },
   "file_extension": ".py",
   "mimetype": "text/x-python",
   "name": "python",
   "nbconvert_exporter": "python",
   "pygments_lexer": "ipython3",
   "version": "3.6.5"
  }
 },
 "nbformat": 4,
 "nbformat_minor": 2
}
