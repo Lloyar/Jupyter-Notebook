{
 "cells": [
  {
   "cell_type": "markdown",
   "metadata": {},
   "source": [
    "## 数据预处理"
   ]
  },
  {
   "cell_type": "code",
   "execution_count": 62,
   "metadata": {},
   "outputs": [
    {
     "name": "stdout",
     "output_type": "stream",
     "text": [
      "The table all row is 2601,col is 1\n"
     ]
    }
   ],
   "source": [
    "import pandas as pd\n",
    "import xlrd\n",
    "xlsfile = \"B_vol.xlsx\"\n",
    "book = xlrd.open_workbook(xlsfile)\n",
    "table = book.sheet_by_index(0)\n",
    "nrows = table.nrows\n",
    "ncols = table.ncols\n",
    "print(\"The table all row is %d,col is %s\" %(nrows,ncols))"
   ]
  },
  {
   "cell_type": "code",
   "execution_count": 2,
   "metadata": {},
   "outputs": [],
   "source": [
    "data = []\n",
    "for i in range(nrows):\n",
    "    data.append(table.cell(i,0).value)"
   ]
  },
  {
   "cell_type": "code",
   "execution_count": 3,
   "metadata": {},
   "outputs": [],
   "source": [
    "data_rev = list(reversed(data))"
   ]
  },
  {
   "cell_type": "markdown",
   "metadata": {},
   "source": [
    "## 处理掉断行的题目"
   ]
  },
  {
   "cell_type": "code",
   "execution_count": 4,
   "metadata": {},
   "outputs": [],
   "source": [
    "import re\n",
    "m = re.compile('(\\d+\\u3001)|([A-D]\\.)')\n",
    "f = [re.search(m,data_rev[i]) for i in range(len(data_rev))]"
   ]
  },
  {
   "cell_type": "code",
   "execution_count": 5,
   "metadata": {},
   "outputs": [],
   "source": [
    "for i in range(len(f)-1):\n",
    "    if f[i] is None:\n",
    "        data_rev[i+1] = '%s%s' % (data_rev[i+1], data_rev[i])\n",
    "        data_rev[i] = 'flag'"
   ]
  },
  {
   "cell_type": "code",
   "execution_count": 6,
   "metadata": {},
   "outputs": [],
   "source": [
    "for i in range(len(data_rev)-1,-1,-1):\n",
    "    if data_rev[i] == 'flag':\n",
    "        data_rev.pop(i)\n",
    "data = list(reversed(data_rev))"
   ]
  },
  {
   "cell_type": "markdown",
   "metadata": {},
   "source": [
    "## 匹配ABCD选项"
   ]
  },
  {
   "cell_type": "code",
   "execution_count": 72,
   "metadata": {},
   "outputs": [],
   "source": [
    "def selet_div(data):\n",
    "    '''\n",
    "    \n",
    "    对data中alph选项（ABCD）做筛选\n",
    "    \n",
    "    \n",
    "    '''\n",
    "    s_num = '\\D*((?:\\d)+)(\\u3001)\\s*(.+)'    #匹配题号\n",
    "    colnum2qnum = [None] * len(data)    #行数和题号\n",
    "    colnum2qnum[0] = 1\n",
    "    qnum_que = [[],[]]    # 题号和问题\n",
    "    qnum_que[0].append(re.search(s_num, data[0]).group(1))\n",
    "    qnum_que[1].append(re.search(s_num, data[0]).group(3))\n",
    "    for i in range(1,len(data)):\n",
    "        m = re.search(s_num, data[i])\n",
    "        if m is None:\n",
    "            colnum2qnum[i] = colnum2qnum[i-1]\n",
    "        else:\n",
    "            qnum_que[0].append(m.group(1))\n",
    "            qnum_que[1].append(m.group(3))\n",
    "            colnum2qnum[i] = int((m.group(1)))\n",
    "\n",
    "    #pat_slt = '([A-D]\\.[\\u4e00-\\u9fa5]+)\\s+(([A-D]\\.[\\u4e00-\\u9fa5]+)?)'    #匹配ABCD选项  A.XXXX    B.XXXX\n",
    "    pat_slt = '[^\\w\\u4e00-\\u9fa5]*([A-D]\\.\\s*\\S+)\\s*([A-D]\\.\\s*\\S+)?'\n",
    "    \n",
    "    # s = '(%s\\.[\\u4e00-\\u9fa5]+)' % (alph) \n",
    "    # mid_value = [re.match(pat_slt, data[i]) for i in range(len(data))]\n",
    "    form = [[],[]] # quesion num, select\n",
    "    for i in range(len(data)):\n",
    "        m = re.search(pat_slt, data[i])\n",
    "        if m is not None:\n",
    "            k = list(m.groups())\n",
    "            if None in k: k.remove(None)\n",
    "            form[0].extend([colnum2qnum[i]]*len(k))\n",
    "            form[1].extend(k)\n",
    "    \n",
    "    final = [[],[],[]]\n",
    "    final[0] = qnum_que[0]\n",
    "    final[1] = qnum_que[1]\n",
    "    df = pd.DataFrame({'key':form[0],'data':form[1]})\n",
    "    grouped=df['data'].groupby(df['key'])\n",
    "    gr = []\n",
    "    for name,group in grouped:\n",
    "        final[2].append(' '.join(list(grouped.get_group(name))))\n",
    "    \n",
    "    return final"
   ]
  },
  {
   "cell_type": "markdown",
   "metadata": {},
   "source": [
    "上述函数需要再加一个返回题号的功能"
   ]
  },
  {
   "cell_type": "code",
   "execution_count": 73,
   "metadata": {},
   "outputs": [],
   "source": [
    "f = selet_div(data)"
   ]
  },
  {
   "cell_type": "code",
   "execution_count": 78,
   "metadata": {},
   "outputs": [
    {
     "data": {
      "text/plain": [
       "['A.质量检查员 B.施工员 C.项目经理 D.安全员',\n",
       " 'A.2 B.3 C.4 D.5',\n",
       " 'A. 施工许可管理办法 B.建筑法 C.建设工程质量管理条例 D.工程建设强制性标准',\n",
       " 'A.砌体结构构件 B.施工工艺 C.砂浆种类 D.抗震设防烈度',\n",
       " 'A.国务院 B.建设部 C.国家计委 D.国家发改委',\n",
       " 'A.10% B.20% C.30% D.40%',\n",
       " 'A.天然砂 B.河砂 C.海砂 D.山砂',\n",
       " 'A.建设单位 B.监理单位 C.质量监督单位 D.档案管理单位',\n",
       " 'A.分层开挖 B.分段开挖 C.分区开挖 D.分块开挖',\n",
       " 'A.若设计无要求，至少保留 B.填充后浇带，可采用高膨胀混凝土 C.膨胀混凝土强度等级与原结构强度相同 D.填充混凝土保持至少',\n",
       " 'A.挤浆法 B.刮浆法 C.满口灰法 D.“三一”砌法',\n",
       " 'A.30mm B.50mm C.80m D.100mm',\n",
       " 'A.7d B.10d C.14d D.15d',\n",
       " 'A.1.2 B.2.5 C.设计强度的 D.设计强度的',\n",
       " 'A.1.5 B.2.0 C.2.2 D.2.5',\n",
       " 'A.板的钢筋在上，次梁钢筋居中，主梁钢筋在下 B.次梁钢筋在上，板的钢筋居中，主梁钢筋在下 C.主梁钢筋在上，次梁钢筋居中，板的钢筋在下 D.板的钢筋在上，主梁钢筋居中，次梁钢筋在下',\n",
       " 'A.平行于屋脊 B.垂直于屋脊 C.与屋脊呈 D.上下层相互垂直',\n",
       " 'A.240mm B.360mm C.500mm D.1000mm',\n",
       " 'A.喷涂施工 B.滚涂施工 C.刮涂施工 D.刷涂施工',\n",
       " 'A.2-4 B.5-7 C.8-10 D.10-12']"
      ]
     },
     "execution_count": 78,
     "metadata": {},
     "output_type": "execute_result"
    }
   ],
   "source": [
    "f[2][0:20]"
   ]
  },
  {
   "cell_type": "code",
   "execution_count": null,
   "metadata": {},
   "outputs": [],
   "source": []
  }
 ],
 "metadata": {
  "kernelspec": {
   "display_name": "Python 3",
   "language": "python",
   "name": "python3"
  },
  "language_info": {
   "codemirror_mode": {
    "name": "ipython",
    "version": 3
   },
   "file_extension": ".py",
   "mimetype": "text/x-python",
   "name": "python",
   "nbconvert_exporter": "python",
   "pygments_lexer": "ipython3",
   "version": "3.6.5"
  }
 },
 "nbformat": 4,
 "nbformat_minor": 2
}
